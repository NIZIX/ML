{
 "cells": [
  {
   "cell_type": "code",
   "execution_count": null,
   "metadata": {},
   "outputs": [],
   "source": [
    "from torchsummary import summary\n",
    "from model import AE\n",
    "from torchvision.datasets import ImageFolder\n",
    "import torchvision.transforms as transform\n",
    "import torch\n",
    "from torch.utils.data import DataLoader \n",
    "from torchvision.datasets import CelebA, CIFAR10, Caltech256\n",
    "import matplotlib.pyplot as plt\n",
    "from tqdm import tqdm\n",
    "import numpy as np\n",
    "from PIL import Image\n",
    "import pandas as pd"
   ]
  },
  {
   "cell_type": "code",
   "execution_count": null,
   "metadata": {},
   "outputs": [],
   "source": [
    "data_transform = transform.Compose([ \n",
    "    transform.CenterCrop(128),\n",
    "    transform.Resize((128, 128)),\n",
    "    transform.ToTensor()\n",
    "])\n",
    "\n",
    "train_data = CelebA(r\"../data\", download=True, transform=data_transform)\n",
    "# train_data = Caltech256(r\"../data\", download=True, transform=data_transform)\n",
    "\n",
    "\n",
    "train_loader = DataLoader(train_data, batch_size=32, shuffle=True, num_workers=2)"
   ]
  },
  {
   "cell_type": "code",
   "execution_count": null,
   "metadata": {},
   "outputs": [],
   "source": [
    "plt.imshow(train_data[0][0].permute(1, 2, 0))"
   ]
  },
  {
   "cell_type": "code",
   "execution_count": null,
   "metadata": {},
   "outputs": [],
   "source": [
    "device = 'cuda' if torch.cuda.is_available() else \"cpu\"\n",
    "\n",
    "print(\"device = \", device)\n",
    "\n",
    "model = AE(256).to(device)\n",
    "\n",
    "critrion = torch.nn.BCELoss()\n",
    "\n",
    "optimizer = torch.optim.Adam(model.parameters(), lr=0.0003)\n",
    "\n",
    "lr_sheduler = torch.optim.lr_scheduler.ReduceLROnPlateau(optimizer, \"min\")"
   ]
  },
  {
   "cell_type": "code",
   "execution_count": null,
   "metadata": {},
   "outputs": [],
   "source": [
    "def train():\n",
    "    model.train()\n",
    "    loss_train = []\n",
    "    count = 0\n",
    "    for x in train_loader:\n",
    "        x = x[0].to(device)\n",
    "        optimizer.zero_grad()\n",
    "\n",
    "        prediction, latent = model(x)\n",
    "        loss = critrion(prediction, x)\n",
    "        loss.backward()\n",
    "        \n",
    "\n",
    "        optimizer.step()\n",
    "        \n",
    "        if count % 50 == 0:\n",
    "            loss_train.append(loss.item())\n",
    "            print(\"current loss = \", loss.item())\n",
    "\n",
    "            if count % 150 == 0:\n",
    "                lr_sheduler.step(loss.item())\n",
    "\n",
    "        count += 1\n",
    "\n",
    "\n",
    "def val():\n",
    "    pass"
   ]
  },
  {
   "cell_type": "code",
   "execution_count": null,
   "metadata": {},
   "outputs": [],
   "source": [
    "# train()\n",
    "# model.eval()\n",
    "# torch.save(model.state_dict(), \"../weights/AE.pth\")\n",
    "\n",
    "model.load_state_dict(torch.load(\".\\weights\\AE.pth\"))"
   ]
  },
  {
   "cell_type": "code",
   "execution_count": null,
   "metadata": {},
   "outputs": [],
   "source": []
  },
  {
   "cell_type": "code",
   "execution_count": null,
   "metadata": {},
   "outputs": [],
   "source": [
    "img = train_data[np.random.randint(0, 10000)][0]\n",
    "\n",
    "\n",
    "fig, (ax1, ax2) = plt.subplots(1, 2)\n",
    "ax1.imshow(img.permute(1, 2, 0))\n",
    "\n",
    "reconstruct, _ = model(torch.unsqueeze(img, 0).to(device))\n",
    "ax2.imshow(torch.squeeze(reconstruct.cpu().detach()).permute(1, 2, 0))"
   ]
  },
  {
   "cell_type": "code",
   "execution_count": null,
   "metadata": {},
   "outputs": [],
   "source": [
    "txt_file = open(\"C:\\Visual_Studio\\ML\\data\\celeba\\list_attr_celeba.txt\", \"r\")\n",
    "csv_file = open(\"C:\\Visual_Studio\\ML\\data\\celeba\\list_attr_celeba.csv\", \"w\")\n",
    "\n",
    "txt_file.readline() # reduce first line\n",
    "csv_file.write(\"img_name,\" + txt_file.read().replace(\"  \", \" \").replace(\" \", \",\"))\n",
    "\n",
    "txt_file.close()\n",
    "csv_file.close()"
   ]
  },
  {
   "cell_type": "code",
   "execution_count": null,
   "metadata": {},
   "outputs": [],
   "source": [
    "df = pd.read_csv(\"C:\\Visual_Studio\\ML\\data\\celeba\\list_attr_celeba.csv\")\n",
    "df = df.drop(columns=\"Unnamed: 41\")\n",
    "df"
   ]
  },
  {
   "cell_type": "code",
   "execution_count": null,
   "metadata": {},
   "outputs": [],
   "source": [
    "\n",
    "list_smile = df.sort_values(by=\"Smiling\", key=lambda x: x != 1)[[\"img_name\", \"Smiling\"]][0:30]['img_name'].values\n",
    "list_sad = df.sort_values(by=\"Smiling\")[[\"img_name\", \"Smiling\"]][0:30]['img_name'].values\n",
    "\n",
    "list_smile"
   ]
  },
  {
   "cell_type": "code",
   "execution_count": null,
   "metadata": {},
   "outputs": [],
   "source": [
    "smile_vector = torch.zeros([1, 256])\n",
    "\n",
    "tmp_smile = torch.zeros([1, 256])\n",
    "model.eval()\n",
    "for i in range(30):\n",
    "    img = Image.open(f\"C:\\Visual_Studio\\ML\\data\\celeba\\img_align_celeba\\{list_smile[i]}\")\n",
    "    img = data_transform(img)\n",
    "\n",
    "    tmp_smile += model.cpu().encode(torch.unsqueeze(img, 0))\n",
    "\n",
    "smile_vector / 30\n",
    "\n",
    "\n",
    "tmp_sad = torch.zeros([1, 256])\n",
    "for i in range(30):\n",
    "    img = Image.open(f\"C:\\Visual_Studio\\ML\\data\\celeba\\img_align_celeba\\{list_sad[i]}\")\n",
    "    img = data_transform(img)\n",
    "\n",
    "    tmp_sad += model.cpu().encode(torch.unsqueeze(img, 0))\n",
    "\n",
    "smile_vector = (tmp_smile / 30) - (tmp_sad / 30)\n",
    "\n",
    "smile_vector"
   ]
  },
  {
   "cell_type": "code",
   "execution_count": null,
   "metadata": {},
   "outputs": [],
   "source": [
    "test = train_data[np.random.randint(0, 10000)][0]\n",
    "# test = img\n",
    "\n",
    "fig, (ax1, ax2, ax3) = plt.subplots(1, 3, figsize=(30, 10))\n",
    "ax1.imshow(test.permute(1, 2, 0))\n",
    "\n",
    "_, latent = model(torch.unsqueeze(test, 0))\n",
    "ax2.imshow(torch.squeeze(_.cpu().detach()).permute(1, 2, 0))\n",
    "\n",
    "pred = model.decode(latent + smile_vector * 1)\n",
    "ax3.imshow(torch.squeeze(pred.cpu().detach()).permute(1, 2, 0))"
   ]
  }
 ],
 "metadata": {
  "kernelspec": {
   "display_name": "Python 3.10.6 64-bit",
   "language": "python",
   "name": "python3"
  },
  "language_info": {
   "codemirror_mode": {
    "name": "ipython",
    "version": 3
   },
   "file_extension": ".py",
   "mimetype": "text/x-python",
   "name": "python",
   "nbconvert_exporter": "python",
   "pygments_lexer": "ipython3",
   "version": "3.10.6"
  },
  "orig_nbformat": 4,
  "vscode": {
   "interpreter": {
    "hash": "916dbcbb3f70747c44a77c7bcd40155683ae19c65e1c03b4aa3499c5328201f1"
   }
  }
 },
 "nbformat": 4,
 "nbformat_minor": 2
}
